{
 "metadata": {
  "language_info": {
   "codemirror_mode": {
    "name": "ipython",
    "version": 3
   },
   "file_extension": ".py",
   "mimetype": "text/x-python",
   "name": "python",
   "nbconvert_exporter": "python",
   "pygments_lexer": "ipython3",
   "version": "3.7.7-final"
  },
  "orig_nbformat": 2,
  "kernelspec": {
   "name": "python3",
   "display_name": "Python 3",
   "language": "python"
  }
 },
 "nbformat": 4,
 "nbformat_minor": 2,
 "cells": [
  {
   "source": [
    "# VWAP Signal Generator"
   ],
   "cell_type": "markdown",
   "metadata": {}
  },
  {
   "cell_type": "code",
   "execution_count": 2,
   "metadata": {},
   "outputs": [],
   "source": [
    "import pandas as pd\n",
    "from data import data_df\n",
    "\n",
    "data = data_df()"
   ]
  },
  {
   "cell_type": "code",
   "execution_count": 3,
   "metadata": {},
   "outputs": [],
   "source": [
    "# VWAP = volume weighted average price\n",
    "# VWAP = sum(volume) * sum(avg. price) / sum(volume)\n",
    "    # avg price = (high + close + low) / 3\n",
    "    # the volume and price is a running cumulative for the DAY (restarts everyday)\n",
    "        # Since it restarts everyday, this is not a great tool on the daily timeframe (on the daily timeframe, VWAP is just equal to the avg price), so it is better to use this tool only on *INTRADAY* time frames.  \n",
    "\n",
    "data['avg_price'] = (data.Close + data.High + data.Low) / 3\n",
    "data['curent_day'] = data.index.weekday\n",
    "data['prev_day'] = data.curent_day.shift()\n",
    "data['daily_cum_vol'] = data.Volume\n",
    "\n",
    "for day in range(1, len(data)):\n",
    "    if data.curent_day.iloc[day] == data.prev_day.iloc[day]:\n",
    "        data['daily_cum_vol'].iloc[day] += data.Volume.iloc[day]\n",
    "    else:\n",
    "        data['daily_cum_vol'].iloc[day] = data.Volume.iloc[day]\n",
    "\n",
    "data['vwap'] = (data.daily_cum_vol * data.avg_price) / data.daily_cum_vol\n",
    "data['signal'] = data.vwap.gt(data.Close).astype(float)"
   ]
  },
  {
   "cell_type": "code",
   "execution_count": 11,
   "metadata": {},
   "outputs": [
    {
     "output_type": "execute_result",
     "data": {
      "text/plain": [
       "                  Open        High         Low       Close   Adj Close  \\\n",
       "Date                                                                     \n",
       "2015-12-01  377.414001  378.931000  356.562988  362.488007  362.488007   \n",
       "2015-12-02  361.845001  362.231995  349.464996  359.187012  359.187012   \n",
       "2015-12-03  359.330994  370.274994  357.411987  361.045990  361.045990   \n",
       "2015-12-04  361.261993  363.515991  355.756989  363.183014  363.183014   \n",
       "2015-12-05  363.721008  389.785004  363.229004  388.949005  388.949005   \n",
       "\n",
       "              Volume   avg_price  curent_day  prev_day  daily_cum_vol  \\\n",
       "Date                                                                    \n",
       "2015-12-01  60452200  365.993998           1       NaN       60452200   \n",
       "2015-12-02  54160500  356.961334           2       1.0       54160500   \n",
       "2015-12-03  50714900  362.910990           3       2.0       50714900   \n",
       "2015-12-04  35784100  360.818665           4       3.0       35784100   \n",
       "2015-12-05  66282200  380.654338           5       4.0       66282200   \n",
       "\n",
       "                  vwap  signal  \n",
       "Date                            \n",
       "2015-12-01  365.993998     1.0  \n",
       "2015-12-02  356.961334     0.0  \n",
       "2015-12-03  362.910990     1.0  \n",
       "2015-12-04  360.818665     0.0  \n",
       "2015-12-05  380.654338     0.0  "
      ],
      "text/html": "<div>\n<style scoped>\n    .dataframe tbody tr th:only-of-type {\n        vertical-align: middle;\n    }\n\n    .dataframe tbody tr th {\n        vertical-align: top;\n    }\n\n    .dataframe thead th {\n        text-align: right;\n    }\n</style>\n<table border=\"1\" class=\"dataframe\">\n  <thead>\n    <tr style=\"text-align: right;\">\n      <th></th>\n      <th>Open</th>\n      <th>High</th>\n      <th>Low</th>\n      <th>Close</th>\n      <th>Adj Close</th>\n      <th>Volume</th>\n      <th>avg_price</th>\n      <th>curent_day</th>\n      <th>prev_day</th>\n      <th>daily_cum_vol</th>\n      <th>vwap</th>\n      <th>signal</th>\n    </tr>\n    <tr>\n      <th>Date</th>\n      <th></th>\n      <th></th>\n      <th></th>\n      <th></th>\n      <th></th>\n      <th></th>\n      <th></th>\n      <th></th>\n      <th></th>\n      <th></th>\n      <th></th>\n      <th></th>\n    </tr>\n  </thead>\n  <tbody>\n    <tr>\n      <th>2015-12-01</th>\n      <td>377.414001</td>\n      <td>378.931000</td>\n      <td>356.562988</td>\n      <td>362.488007</td>\n      <td>362.488007</td>\n      <td>60452200</td>\n      <td>365.993998</td>\n      <td>1</td>\n      <td>NaN</td>\n      <td>60452200</td>\n      <td>365.993998</td>\n      <td>1.0</td>\n    </tr>\n    <tr>\n      <th>2015-12-02</th>\n      <td>361.845001</td>\n      <td>362.231995</td>\n      <td>349.464996</td>\n      <td>359.187012</td>\n      <td>359.187012</td>\n      <td>54160500</td>\n      <td>356.961334</td>\n      <td>2</td>\n      <td>1.0</td>\n      <td>54160500</td>\n      <td>356.961334</td>\n      <td>0.0</td>\n    </tr>\n    <tr>\n      <th>2015-12-03</th>\n      <td>359.330994</td>\n      <td>370.274994</td>\n      <td>357.411987</td>\n      <td>361.045990</td>\n      <td>361.045990</td>\n      <td>50714900</td>\n      <td>362.910990</td>\n      <td>3</td>\n      <td>2.0</td>\n      <td>50714900</td>\n      <td>362.910990</td>\n      <td>1.0</td>\n    </tr>\n    <tr>\n      <th>2015-12-04</th>\n      <td>361.261993</td>\n      <td>363.515991</td>\n      <td>355.756989</td>\n      <td>363.183014</td>\n      <td>363.183014</td>\n      <td>35784100</td>\n      <td>360.818665</td>\n      <td>4</td>\n      <td>3.0</td>\n      <td>35784100</td>\n      <td>360.818665</td>\n      <td>0.0</td>\n    </tr>\n    <tr>\n      <th>2015-12-05</th>\n      <td>363.721008</td>\n      <td>389.785004</td>\n      <td>363.229004</td>\n      <td>388.949005</td>\n      <td>388.949005</td>\n      <td>66282200</td>\n      <td>380.654338</td>\n      <td>5</td>\n      <td>4.0</td>\n      <td>66282200</td>\n      <td>380.654338</td>\n      <td>0.0</td>\n    </tr>\n  </tbody>\n</table>\n</div>"
     },
     "metadata": {},
     "execution_count": 11
    }
   ],
   "source": [
    "data['signal'] = data.vwap.gt(data.Close).astype(float)\n",
    "\n",
    "data.head()"
   ]
  }
 ]
}